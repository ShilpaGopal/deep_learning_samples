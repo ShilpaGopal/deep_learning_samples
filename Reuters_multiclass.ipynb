{
 "cells": [
  {
   "cell_type": "code",
   "execution_count": 18,
   "metadata": {},
   "outputs": [],
   "source": [
    "from keras.datasets import reuters\n",
    "import numpy as np\n",
    "\n",
    "from keras import models\n",
    "from keras import layers\n",
    "\n",
    "import matplotlib.pyplot as plt\n",
    "import copy"
   ]
  },
  {
   "cell_type": "code",
   "execution_count": 2,
   "metadata": {},
   "outputs": [],
   "source": [
    "(train_x, train_y), (test_x, test_y) = reuters.load_data(num_words=10000)"
   ]
  },
  {
   "cell_type": "markdown",
   "metadata": {},
   "source": [
    "### Decode newswire back to text"
   ]
  },
  {
   "cell_type": "code",
   "execution_count": 3,
   "metadata": {},
   "outputs": [],
   "source": [
    "word_index = reuters.get_word_index()"
   ]
  },
  {
   "cell_type": "code",
   "execution_count": 4,
   "metadata": {},
   "outputs": [],
   "source": [
    "reverse_word_index = dict([(value, key) for (key, value) in word_index.items()])\n",
    "decoded_newswire = ' '.join([reverse_word_index.get(i-3, '?') for i in train_x[0]])"
   ]
  },
  {
   "cell_type": "code",
   "execution_count": 5,
   "metadata": {},
   "outputs": [
    {
     "data": {
      "text/plain": [
       "'? ? ? said as a result of its december acquisition of space co it expects earnings per share in 1987 of 1 15 to 1 30 dlrs per share up from 70 cts in 1986 the company said pretax net should rise to nine to 10 mln dlrs from six mln dlrs in 1986 and rental operation revenues to 19 to 22 mln dlrs from 12 5 mln dlrs it said cash flow per share this year should be 2 50 to three dlrs reuter 3'"
      ]
     },
     "execution_count": 5,
     "metadata": {},
     "output_type": "execute_result"
    }
   ],
   "source": [
    "decoded_newswire"
   ]
  },
  {
   "cell_type": "markdown",
   "metadata": {},
   "source": [
    "### Preprocess the data"
   ]
  },
  {
   "cell_type": "code",
   "execution_count": 6,
   "metadata": {},
   "outputs": [],
   "source": [
    "def vectorize_sequence(sequences, dimension=10000):\n",
    "    results = np.zeros((len(sequences), dimension))\n",
    "    for i , sequence in enumerate(sequences):\n",
    "        results[i, sequence] = 1\n",
    "    return results"
   ]
  },
  {
   "cell_type": "code",
   "execution_count": 7,
   "metadata": {},
   "outputs": [],
   "source": [
    "train_x = vectorize_sequence(train_x)\n",
    "test_x = vectorize_sequence(test_x)"
   ]
  },
  {
   "cell_type": "code",
   "execution_count": 8,
   "metadata": {},
   "outputs": [],
   "source": [
    "def to_on_hot(labels, dimesions=46):\n",
    "    results = np.zeros((len(labels), dimesions))\n",
    "    for i, label in enumerate(labels):\n",
    "        results[i, label]= 1\n",
    "    return results"
   ]
  },
  {
   "cell_type": "code",
   "execution_count": 9,
   "metadata": {},
   "outputs": [],
   "source": [
    "train_y = to_on_hot(train_y)\n",
    "test_y = to_on_hot(test_y)"
   ]
  },
  {
   "cell_type": "markdown",
   "metadata": {},
   "source": [
    "### Initialize the model"
   ]
  },
  {
   "cell_type": "code",
   "execution_count": 10,
   "metadata": {},
   "outputs": [],
   "source": [
    "def init(dimension):\n",
    "    model = models.Sequential()\n",
    "    model.add(layers.Dense(dimension, activation = 'relu', input_shape=(10000,)))\n",
    "    model.add(layers.Dense(dimension, activation = 'relu'))\n",
    "    model.add(layers.Dense(46, activation= 'softmax'))\n",
    "    return model\n",
    "    \n",
    "model = init(dimension=64)"
   ]
  },
  {
   "cell_type": "code",
   "execution_count": 11,
   "metadata": {},
   "outputs": [],
   "source": [
    "model.compile(optimizer = 'rmsprop',\n",
    "             loss = 'categorical_crossentropy',\n",
    "             metrics = ['accuracy'])"
   ]
  },
  {
   "cell_type": "markdown",
   "metadata": {},
   "source": [
    "### Setting aside validation set"
   ]
  },
  {
   "cell_type": "code",
   "execution_count": 12,
   "metadata": {},
   "outputs": [],
   "source": [
    "x_val = train_x[:1000]\n",
    "x_train_part = train_x[1000:]\n",
    "\n",
    "y_val = train_y[:1000]\n",
    "y_train_part = train_y[1000:]"
   ]
  },
  {
   "cell_type": "code",
   "execution_count": 13,
   "metadata": {},
   "outputs": [
    {
     "data": {
      "text/plain": [
       "(7982, 46)"
      ]
     },
     "execution_count": 13,
     "metadata": {},
     "output_type": "execute_result"
    }
   ],
   "source": [
    "y_train_part.shape"
   ]
  },
  {
   "cell_type": "code",
   "execution_count": 14,
   "metadata": {},
   "outputs": [
    {
     "name": "stdout",
     "output_type": "stream",
     "text": [
      "Epoch 1/8\n",
      "16/16 [==============================] - 0s 28ms/step - loss: 2.4957 - accuracy: 0.5251 - val_loss: 1.6403 - val_accuracy: 0.6550\n",
      "Epoch 2/8\n",
      "16/16 [==============================] - 0s 17ms/step - loss: 1.3730 - accuracy: 0.7144 - val_loss: 1.2770 - val_accuracy: 0.7130\n",
      "Epoch 3/8\n",
      "16/16 [==============================] - 0s 17ms/step - loss: 1.0298 - accuracy: 0.7795 - val_loss: 1.1269 - val_accuracy: 0.7560\n",
      "Epoch 4/8\n",
      "16/16 [==============================] - 0s 18ms/step - loss: 0.8044 - accuracy: 0.8271 - val_loss: 1.0443 - val_accuracy: 0.7680\n",
      "Epoch 5/8\n",
      "16/16 [==============================] - 0s 17ms/step - loss: 0.6360 - accuracy: 0.8646 - val_loss: 0.9896 - val_accuracy: 0.7900\n",
      "Epoch 6/8\n",
      "16/16 [==============================] - 0s 18ms/step - loss: 0.5073 - accuracy: 0.8931 - val_loss: 0.9475 - val_accuracy: 0.7960\n",
      "Epoch 7/8\n",
      "16/16 [==============================] - 0s 17ms/step - loss: 0.4085 - accuracy: 0.9173 - val_loss: 0.9248 - val_accuracy: 0.8040\n",
      "Epoch 8/8\n",
      "16/16 [==============================] - 0s 17ms/step - loss: 0.3299 - accuracy: 0.9300 - val_loss: 0.9258 - val_accuracy: 0.8060\n"
     ]
    }
   ],
   "source": [
    "history = model.fit(x_train_part,y_train_part,\n",
    "                   epochs = 8,\n",
    "                   batch_size= 512,\n",
    "                   validation_data = (x_val,y_val))"
   ]
  },
  {
   "cell_type": "code",
   "execution_count": 15,
   "metadata": {},
   "outputs": [],
   "source": [
    "def plot_loss_accuracy(history):\n",
    "    fig, (ax1, ax2) = plt.subplots(2, figsize=(8,8))\n",
    "    \n",
    "    train_loss = history['loss']\n",
    "    val_loss = history['val_loss']\n",
    "    train_acc = history['accuracy']\n",
    "    val_acc = history['val_accuracy']\n",
    "    \n",
    "    epochs = range(1, len(train_loss)+1)\n",
    "    \n",
    "    ax1.plot(epochs, train_loss, 'ro', label='Train loss')\n",
    "    ax1.plot(epochs, val_loss, 'b', label='Validation loss')\n",
    "    ax1.set_title('Training and validation loss')\n",
    "    ax1.legend()\n",
    "    \n",
    "    ax2.plot(epochs, train_acc, 'ro', label='Train accuracy')\n",
    "    ax2.plot(epochs, val_acc, 'b', label='Test accuracy')\n",
    "    ax2.set_title('Training and validation accuracy')\n",
    "    ax2.set_xlabel('Epochs')\n",
    "    ax2.legend()\n",
    "    "
   ]
  },
  {
   "cell_type": "code",
   "execution_count": 16,
   "metadata": {},
   "outputs": [
    {
     "data": {
      "image/png": "[encoded data removed]",
      "text/plain": [
       "<Figure size 576x576 with 2 Axes>"
      ]
     },
     "metadata": {
      "needs_background": "light"
     },
     "output_type": "display_data"
    }
   ],
   "source": [
    "plot_loss_accuracy(history.history)"
   ]
  },
  {
   "cell_type": "code",
   "execution_count": 17,
   "metadata": {},
   "outputs": [
    {
     "name": "stdout",
     "output_type": "stream",
     "text": [
      "71/71 [==============================] - 0s 1ms/step - loss: 0.9924 - accuracy: 0.7881\n"
     ]
    },
    {
     "data": {
      "text/plain": [
       "[0.9923810958862305, 0.7880676984786987]"
      ]
     },
     "execution_count": 17,
     "metadata": {},
     "output_type": "execute_result"
    }
   ],
   "source": [
    "result= model.evaluate(test_x, test_y)\n",
    "result"
   ]
  },
  {
   "cell_type": "markdown",
   "metadata": {},
   "source": [
    "### Prediction"
   ]
  },
  {
   "cell_type": "code",
   "execution_count": 22,
   "metadata": {},
   "outputs": [],
   "source": [
    "pred = model.predict(test_x)"
   ]
  },
  {
   "cell_type": "code",
   "execution_count": 26,
   "metadata": {},
   "outputs": [
    {
     "data": {
      "text/plain": [
       "3"
      ]
     },
     "execution_count": 26,
     "metadata": {},
     "output_type": "execute_result"
    }
   ],
   "source": [
    "np.argmax(pred[0])"
   ]
  },
  {
   "cell_type": "code",
   "execution_count": null,
   "metadata": {},
   "outputs": [],
   "source": []
  }
 ],
 "metadata": {
  "kernelspec": {
   "display_name": "Python 3",
   "language": "python",
   "name": "python3"
  },
  "language_info": {
   "codemirror_mode": {
    "name": "ipython",
    "version": 3
   },
   "file_extension": ".py",
   "mimetype": "text/x-python",
   "name": "python",
   "nbconvert_exporter": "python",
   "pygments_lexer": "ipython3",
   "version": "3.8.5"
  }
 },
 "nbformat": 4,
 "nbformat_minor": 4
}
